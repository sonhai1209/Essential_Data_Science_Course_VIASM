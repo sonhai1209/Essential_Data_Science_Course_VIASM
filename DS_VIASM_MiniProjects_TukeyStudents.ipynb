{
  "nbformat": 4,
  "nbformat_minor": 0,
  "metadata": {
    "colab": {
      "name": "DS_VIASM_MiniProjects_TukeyStudents.ipynb",
      "provenance": [],
      "include_colab_link": true
    },
    "kernelspec": {
      "name": "python3",
      "display_name": "Python 3"
    }
  },
  "cells": [
    {
      "cell_type": "markdown",
      "metadata": {
        "id": "view-in-github",
        "colab_type": "text"
      },
      "source": [
        "<a href=\"https://colab.research.google.com/github/sonhai1209/Essential_Data_Science_Course_VIASM/blob/master/DS_VIASM_MiniProjects_TukeyStudents.ipynb\" target=\"_parent\"><img src=\"https://colab.research.google.com/assets/colab-badge.svg\" alt=\"Open In Colab\"/></a>"
      ]
    },
    {
      "cell_type": "code",
      "metadata": {
        "id": "ZQE4yGe-Q7IL",
        "colab_type": "code",
        "colab": {}
      },
      "source": [
        "import pandas as pd\n",
        "import numpy as np\n",
        "import matplotlib.pyplot as plt\n",
        "from sklearn.cluster import KMeans\n",
        "from sklearn.decomposition import PCA "
      ],
      "execution_count": 0,
      "outputs": []
    },
    {
      "cell_type": "code",
      "metadata": {
        "id": "-BHvNIx2RTiB",
        "colab_type": "code",
        "outputId": "8ecf7d05-099f-48a6-bd99-ce5e50550769",
        "colab": {
          "base_uri": "https://localhost:8080/",
          "height": 374
        }
      },
      "source": [
        "data=pd.read_csv(\"turkiye-student-evaluation_generic.csv\")\n",
        "print(data.columns)\n",
        "print(data.head())\n",
        "\n",
        "dataset_question=data.iloc[:,5:33]\n",
        "print(dataset_question.head())\n"
      ],
      "execution_count": 0,
      "outputs": [
        {
          "output_type": "stream",
          "text": [
            "Index(['instr', 'class', 'nb.repeat', 'attendance', 'difficulty', 'Q1', 'Q2',\n",
            "       'Q3', 'Q4', 'Q5', 'Q6', 'Q7', 'Q8', 'Q9', 'Q10', 'Q11', 'Q12', 'Q13',\n",
            "       'Q14', 'Q15', 'Q16', 'Q17', 'Q18', 'Q19', 'Q20', 'Q21', 'Q22', 'Q23',\n",
            "       'Q24', 'Q25', 'Q26', 'Q27', 'Q28'],\n",
            "      dtype='object')\n",
            "   instr  class  nb.repeat  attendance  difficulty  ...  Q24  Q25  Q26  Q27  Q28\n",
            "0      1      2          1           0           4  ...    3    3    3    3    3\n",
            "1      1      2          1           1           3  ...    3    3    3    3    3\n",
            "2      1      2          1           2           4  ...    5    5    5    5    5\n",
            "3      1      2          1           1           3  ...    3    3    3    3    3\n",
            "4      1      2          1           0           1  ...    1    1    1    1    1\n",
            "\n",
            "[5 rows x 33 columns]\n",
            "   Q1  Q2  Q3  Q4  Q5  Q6  Q7  Q8  ...  Q21  Q22  Q23  Q24  Q25  Q26  Q27  Q28\n",
            "0   3   3   3   3   3   3   3   3  ...    3    3    3    3    3    3    3    3\n",
            "1   3   3   3   3   3   3   3   3  ...    3    3    3    3    3    3    3    3\n",
            "2   5   5   5   5   5   5   5   5  ...    5    5    5    5    5    5    5    5\n",
            "3   3   3   3   3   3   3   3   3  ...    3    3    3    3    3    3    3    3\n",
            "4   1   1   1   1   1   1   1   1  ...    1    1    1    1    1    1    1    1\n",
            "\n",
            "[5 rows x 28 columns]\n"
          ],
          "name": "stdout"
        }
      ]
    },
    {
      "cell_type": "code",
      "metadata": {
        "id": "xXubaKuISq_N",
        "colab_type": "code",
        "outputId": "93b34228-a5d6-40f1-cd3b-621421d2ad9a",
        "colab": {
          "base_uri": "https://localhost:8080/",
          "height": 136
        }
      },
      "source": [
        "pca= PCA(n_components=2)\n",
        "dataset_question_pca=pca.fit_transform(dataset_question)\n",
        "print(dataset_question_pca)\n",
        "\n",
        "wcss=[]\n",
        "\n",
        "for i in range(1,7):\n",
        "  kmeans=KMeans(n_clusters=i,init='k-means++',random_state=30)\n",
        "  kmeans.fit_transform(dataset_question_pca)\n",
        "  wcss.append(kmeans.inertia_)\n",
        "   "
      ],
      "execution_count": 0,
      "outputs": [
        {
          "output_type": "stream",
          "text": [
            "[[ 0.98901533  0.52279815]\n",
            " [ 0.98901533  0.52279815]\n",
            " [-9.59128851  0.64080209]\n",
            " ...\n",
            " [-9.59128851  0.64080209]\n",
            " [11.56931918  0.40479421]\n",
            " [11.56931918  0.40479421]]\n"
          ],
          "name": "stdout"
        }
      ]
    },
    {
      "cell_type": "code",
      "metadata": {
        "id": "vBaX6sRHT_L9",
        "colab_type": "code",
        "outputId": "571abc17-5f34-40b0-c10f-5afb54566243",
        "colab": {
          "base_uri": "https://localhost:8080/",
          "height": 295
        }
      },
      "source": [
        "plt.plot(range(1,7),wcss)\n",
        "plt.title(\"elbow\")\n",
        "plt.xlabel(\"Cluster\")\n",
        "plt.ylabel(\"WCSS\")\n",
        "plt.show()"
      ],
      "execution_count": 0,
      "outputs": [
        {
          "output_type": "display_data",
          "data": {
            "image/png": "[encoded data removed]",
            "text/plain": [
              "<Figure size 432x288 with 1 Axes>"
            ]
          },
          "metadata": {
            "tags": []
          }
        }
      ]
    },
    {
      "cell_type": "code",
      "metadata": {
        "id": "qwAzbSuQU_lx",
        "colab_type": "code",
        "outputId": "9b382593-a1f6-4896-ff77-7a1d48696c84",
        "colab": {
          "base_uri": "https://localhost:8080/",
          "height": 265
        }
      },
      "source": [
        "kmeans=KMeans(n_clusters=3,init='k-means++')\n",
        "y_kmeans=kmeans.fit_predict(dataset_question_pca)\n",
        "plt.scatter(dataset_question_pca[y_kmeans==0,0],dataset_question_pca[y_kmeans==0,1],s=100,c='yellow',label='cluster1')\n",
        "plt.scatter(dataset_question_pca[y_kmeans==1,0],dataset_question_pca[y_kmeans==1,1],s=100,c='blue',label='cluster2')\n",
        "plt.scatter(dataset_question_pca[y_kmeans==2,0],dataset_question_pca[y_kmeans==2,1],s=100,c='red',label='cluster3')\n",
        "plt.scatter(kmeans.cluster_centers_[:,0],kmeans.cluster_centers_[:,1],c='black',label='center')\n",
        "\n",
        "plt.show()"
      ],
      "execution_count": 0,
      "outputs": [
        {
          "output_type": "display_data",
          "data": {
            "image/png": "[encoded data removed]",
            "text/plain": [
              "<Figure size 432x288 with 1 Axes>"
            ]
          },
          "metadata": {
            "tags": []
          }
        }
      ]
    }
  ]
}