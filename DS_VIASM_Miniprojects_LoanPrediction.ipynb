{
  "nbformat": 4,
  "nbformat_minor": 0,
  "metadata": {
    "colab": {
      "name": "DS_VIASM_Miniprojects_LoanPrediction.ipynb",
      "provenance": [],
      "include_colab_link": true
    },
    "kernelspec": {
      "name": "python3",
      "display_name": "Python 3"
    }
  },
  "cells": [
    {
      "cell_type": "markdown",
      "metadata": {
        "id": "view-in-github",
        "colab_type": "text"
      },
      "source": [
        "<a href=\"https://colab.research.google.com/github/sonhai1209/Essential_Data_Science_Course_VIASM/blob/master/DS_VIASM_Miniprojects_LoanPrediction.ipynb\" target=\"_parent\"><img src=\"https://colab.research.google.com/assets/colab-badge.svg\" alt=\"Open In Colab\"/></a>"
      ]
    },
    {
      "cell_type": "code",
      "metadata": {
        "id": "LkxsCIZ500_q",
        "colab_type": "code",
        "colab": {}
      },
      "source": [
        "import pandas as pd\n",
        "import numpy as np\n",
        "from sklearn.preprocessing import LabelEncoder\n",
        "from sklearn.linear_model import LinearRegression\n",
        "from sklearn.metrics import accuracy_score,confusion_matrix,classification_report\n",
        "from sklearn.model_selection import train_test_split\n",
        "from sklearn.svm import SVC\n",
        "from sklearn.tree import DecisionTreeClassifier\n"
      ],
      "execution_count": 0,
      "outputs": []
    },
    {
      "cell_type": "code",
      "metadata": {
        "id": "zAJWTjqV1kEJ",
        "colab_type": "code",
        "outputId": "548ae010-18cb-41cb-ff1d-077ccf627485",
        "colab": {
          "base_uri": "https://localhost:8080/",
          "height": 493
        }
      },
      "source": [
        "data=pd.read_csv(\"train.csv\")\n",
        "\n",
        "print(data)\n",
        "data.dropna(how=\"any\",inplace=True)     #loại bỏ những chỗ có giá trị null\n",
        "encode=LabelEncoder()\n",
        "data.Loan_Status=encode.fit_transform(data.Loan_Status)\n",
        "print(data)"
      ],
      "execution_count": 0,
      "outputs": [
        {
          "output_type": "stream",
          "text": [
            "      Loan_ID  Gender Married  ... Credit_History Property_Area Loan_Status\n",
            "0    LP001002    Male      No  ...            1.0         Urban           Y\n",
            "1    LP001003    Male     Yes  ...            1.0         Rural           N\n",
            "2    LP001005    Male     Yes  ...            1.0         Urban           Y\n",
            "3    LP001006    Male     Yes  ...            1.0         Urban           Y\n",
            "4    LP001008    Male      No  ...            1.0         Urban           Y\n",
            "..        ...     ...     ...  ...            ...           ...         ...\n",
            "609  LP002978  Female      No  ...            1.0         Rural           Y\n",
            "610  LP002979    Male     Yes  ...            1.0         Rural           Y\n",
            "611  LP002983    Male     Yes  ...            1.0         Urban           Y\n",
            "612  LP002984    Male     Yes  ...            1.0         Urban           Y\n",
            "613  LP002990  Female      No  ...            0.0     Semiurban           N\n",
            "\n",
            "[614 rows x 13 columns]\n",
            "      Loan_ID  Gender Married  ... Credit_History Property_Area Loan_Status\n",
            "1    LP001003    Male     Yes  ...            1.0         Rural           0\n",
            "2    LP001005    Male     Yes  ...            1.0         Urban           1\n",
            "3    LP001006    Male     Yes  ...            1.0         Urban           1\n",
            "4    LP001008    Male      No  ...            1.0         Urban           1\n",
            "5    LP001011    Male     Yes  ...            1.0         Urban           1\n",
            "..        ...     ...     ...  ...            ...           ...         ...\n",
            "609  LP002978  Female      No  ...            1.0         Rural           1\n",
            "610  LP002979    Male     Yes  ...            1.0         Rural           1\n",
            "611  LP002983    Male     Yes  ...            1.0         Urban           1\n",
            "612  LP002984    Male     Yes  ...            1.0         Urban           1\n",
            "613  LP002990  Female      No  ...            0.0     Semiurban           0\n",
            "\n",
            "[480 rows x 13 columns]\n"
          ],
          "name": "stdout"
        }
      ]
    },
    {
      "cell_type": "code",
      "metadata": {
        "id": "4PhDzuLZ1oBs",
        "colab_type": "code",
        "outputId": "7e4f2e14-786f-4083-9516-72de3b4d7873",
        "colab": {
          "base_uri": "https://localhost:8080/",
          "height": 255
        }
      },
      "source": [
        "train,test=train_test_split(data,test_size=0.3,random_state=0)\n",
        "train_x=train.drop(columns=[\"Loan_ID\",\"Loan_Status\"])\n",
        "train_y=train[\"Loan_Status\"]\n",
        "\n",
        "test_x=test.drop(columns=[\"Loan_ID\",\"Loan_Status\"])\n",
        "test_y=test[\"Loan_Status\"]\n",
        "\n",
        "train_x=pd.get_dummies(train_x)                #chuyển về dạng số.Lưu ý trường với giá trị ít như Y/N hoặc 1,2,3,4\n",
        "test_x=pd.get_dummies(test_x)\n",
        "print(test_x)\n",
        "\n"
      ],
      "execution_count": 0,
      "outputs": [
        {
          "output_type": "stream",
          "text": [
            "     ApplicantIncome  ...  Property_Area_Urban\n",
            "18              4887  ...                    0\n",
            "161             7933  ...                    1\n",
            "182             4600  ...                    0\n",
            "340             2647  ...                    0\n",
            "216              150  ...                    0\n",
            "..               ...  ...                  ...\n",
            "87              2500  ...                    0\n",
            "26              2799  ...                    0\n",
            "381             5941  ...                    0\n",
            "17              3510  ...                    1\n",
            "403             1963  ...                    0\n",
            "\n",
            "[144 rows x 20 columns]\n"
          ],
          "name": "stdout"
        }
      ]
    },
    {
      "cell_type": "code",
      "metadata": {
        "id": "DeYPxcW13EQd",
        "colab_type": "code",
        "outputId": "d853bedf-719b-4746-a5f2-f58b76e2a379",
        "colab": {
          "base_uri": "https://localhost:8080/",
          "height": 71
        }
      },
      "source": [
        "s_model=SVC(kernel='poly',C=1.0,coef0=0.0000001)\n",
        "s_model.fit(train_x,train_y)\n",
        "s_predict=s_model.predict(test_x)\n",
        "print(\"\\nConfusion Matrix:\\n\",confusion_matrix(test_y,s_predict))\n",
        "print(\"\\nClassification Report:\\n\",classification_report(test_y,s_predict))\n",
        "\n"
      ],
      "execution_count": 0,
      "outputs": [
        {
          "output_type": "stream",
          "text": [
            "/usr/local/lib/python3.6/dist-packages/sklearn/svm/base.py:193: FutureWarning: The default value of gamma will change from 'auto' to 'scale' in version 0.22 to account better for unscaled features. Set gamma explicitly to 'auto' or 'scale' to avoid this warning.\n",
            "  \"avoid this warning.\", FutureWarning)\n"
          ],
          "name": "stderr"
        }
      ]
    },
    {
      "cell_type": "code",
      "metadata": {
        "id": "jxCIDDdx4qQN",
        "colab_type": "code",
        "colab": {}
      },
      "source": [
        "d_model=DecisionTreeClassifier()\n",
        "d_model.fit(train_x,train_y)\n",
        "d_predict=d_model.predict(test_x)\n"
      ],
      "execution_count": 0,
      "outputs": []
    },
    {
      "cell_type": "code",
      "metadata": {
        "id": "yTeWbDIE5FAM",
        "colab_type": "code",
        "colab": {}
      },
      "source": [
        "print(\"\\nConfusion Matrix:\\n\",confusion_matrix(test_y,d_predict))\n",
        "print(\"\\nClassification Report:\\n\",classification_report(test_y,d_predict))\n"
      ],
      "execution_count": 0,
      "outputs": []
    }
  ]
}