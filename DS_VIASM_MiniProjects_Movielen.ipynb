{
  "nbformat": 4,
  "nbformat_minor": 0,
  "metadata": {
    "colab": {
      "name": "DS_VIASM_MiniProjects_Movielen.ipynb",
      "provenance": []
    },
    "kernelspec": {
      "name": "python3",
      "display_name": "Python 3"
    }
  },
  "cells": [
    {
      "cell_type": "code",
      "metadata": {
        "id": "mEZj0CsjHG4A",
        "colab_type": "code",
        "colab": {}
      },
      "source": [
        "import pandas as pd\n",
        "from sklearn.feature_extraction.text import CountVectorizer\n",
        "from sklearn.metrics.pairwise import cosine_similarity"
      ],
      "execution_count": 0,
      "outputs": []
    },
    {
      "cell_type": "code",
      "metadata": {
        "id": "_X2TscKmHcAB",
        "colab_type": "code",
        "colab": {}
      },
      "source": [
        "def getTitleFromIndex(index):\n",
        "  return data[data['index']==index][\"title\"].values[0]\n",
        "def getIndexFromTitle(title):\n",
        "  return data[data['title']==title][\"index\"].values[0]"
      ],
      "execution_count": 0,
      "outputs": []
    },
    {
      "cell_type": "code",
      "metadata": {
        "id": "26xQYP1VIBFJ",
        "colab_type": "code",
        "outputId": "f1ac5383-3733-4cf7-beb0-951db22b073a",
        "colab": {
          "base_uri": "https://localhost:8080/",
          "height": 119
        }
      },
      "source": [
        "data=pd.read_csv(\"movie_dataset.csv\")\n",
        "print(data.columns)\n"
      ],
      "execution_count": 0,
      "outputs": [
        {
          "output_type": "stream",
          "text": [
            "Index(['index', 'budget', 'genres', 'homepage', 'id', 'keywords',\n",
            "       'original_language', 'original_title', 'overview', 'popularity',\n",
            "       'production_companies', 'production_countries', 'release_date',\n",
            "       'revenue', 'runtime', 'spoken_languages', 'status', 'tagline', 'title',\n",
            "       'vote_average', 'vote_count', 'cast', 'crew', 'director'],\n",
            "      dtype='object')\n"
          ],
          "name": "stdout"
        }
      ]
    },
    {
      "cell_type": "code",
      "metadata": {
        "id": "lhgizTjMJBLD",
        "colab_type": "code",
        "colab": {}
      },
      "source": [
        "features=['genres','keywords','title','cast','director']\n",
        "for feature in features:\n",
        "  data[feature]=data[feature].fillna('')\n",
        "\n",
        "def combine_features(row):\n",
        "  try:\n",
        "    return row['genres']+ \" \"+ row['keywords']+\" \"+row['title']+\" \"+row['cast']+\" \"+row['director']\n",
        "  except:\n",
        "    print(\"Combining Error!\")\n",
        "data['combine_features']=data.apply(combine_features,axis=1)\n"
      ],
      "execution_count": 0,
      "outputs": []
    },
    {
      "cell_type": "code",
      "metadata": {
        "id": "AIVk7isyKyIF",
        "colab_type": "code",
        "outputId": "5eb24308-f111-4807-c5e5-51b7da8d0db0",
        "colab": {
          "base_uri": "https://localhost:8080/",
          "height": 884
        }
      },
      "source": [
        "#Count vectorization\n",
        "cv=CountVectorizer()\n",
        "count_matrix=cv.fit_transform(data['combine_features'])\n",
        "print(count_matrix)\n",
        "\n",
        "count_sim=cosine_similarity(count_matrix)\n",
        "\n"
      ],
      "execution_count": 0,
      "outputs": [
        {
          "output_type": "stream",
          "text": [
            "  (0, 170)\t1\n",
            "  (0, 238)\t1\n",
            "  (0, 5284)\t1\n",
            "  (0, 13728)\t1\n",
            "  (0, 5437)\t1\n",
            "  (0, 3707)\t1\n",
            "  (0, 3100)\t1\n",
            "  (0, 5854)\t1\n",
            "  (0, 14528)\t2\n",
            "  (0, 16754)\t1\n",
            "  (0, 3261)\t1\n",
            "  (0, 14425)\t1\n",
            "  (0, 1036)\t1\n",
            "  (0, 13480)\t1\n",
            "  (0, 17158)\t1\n",
            "  (0, 17448)\t1\n",
            "  (0, 13450)\t1\n",
            "  (0, 14211)\t1\n",
            "  (0, 16831)\t1\n",
            "  (0, 14767)\t1\n",
            "  (0, 8839)\t1\n",
            "  (0, 10322)\t1\n",
            "  (0, 13148)\t1\n",
            "  (0, 7809)\t1\n",
            "  (0, 2471)\t1\n",
            "  :\t:\n",
            "  (4801, 17420)\t1\n",
            "  (4801, 2450)\t1\n",
            "  (4801, 13306)\t1\n",
            "  (4801, 3535)\t1\n",
            "  (4801, 14085)\t1\n",
            "  (4801, 7321)\t1\n",
            "  (4802, 11296)\t1\n",
            "  (4802, 4536)\t1\n",
            "  (4802, 2148)\t2\n",
            "  (4802, 5016)\t1\n",
            "  (4802, 17074)\t1\n",
            "  (4802, 6178)\t1\n",
            "  (4802, 3457)\t1\n",
            "  (4802, 3893)\t1\n",
            "  (4802, 4552)\t2\n",
            "  (4802, 1318)\t1\n",
            "  (4802, 13109)\t1\n",
            "  (4802, 4375)\t1\n",
            "  (4802, 6453)\t1\n",
            "  (4802, 4643)\t1\n",
            "  (4802, 10837)\t1\n",
            "  (4802, 3680)\t1\n",
            "  (4802, 2465)\t1\n",
            "  (4802, 5367)\t1\n",
            "  (4802, 7039)\t2\n"
          ],
          "name": "stdout"
        }
      ]
    },
    {
      "cell_type": "code",
      "metadata": {
        "id": "8pBrH2r7NAfP",
        "colab_type": "code",
        "outputId": "cb08095e-f6fa-4ed1-b3bf-22cc3bdcdd48",
        "colab": {
          "base_uri": "https://localhost:8080/",
          "height": 357
        }
      },
      "source": [
        "movie_like=\"Avatar\"\n",
        "movie_like_id=getIndexFromTitle(movie_like)\n",
        "\n",
        "similar_movies=list(enumerate(count_sim[movie_like_id]))\n",
        "sorted_similar_movies=sorted(similar_movies,key=lambda x:x[1],reverse=True)\n",
        "\n",
        "i=0\n",
        "for movie in sorted_similar_movies:\n",
        "  print(i+1,\". \",getTitleFromIndex(movie[0]))\n",
        "  i=i+1\n",
        "  if i>=20:\n",
        "    break"
      ],
      "execution_count": 0,
      "outputs": [
        {
          "output_type": "stream",
          "text": [
            "1 .  Avatar\n",
            "2 .  Guardians of the Galaxy\n",
            "3 .  Aliens\n",
            "4 .  Alien\n",
            "5 .  Zathura: A Space Adventure\n",
            "6 .  Star Trek Into Darkness\n",
            "7 .  Star Trek Beyond\n",
            "8 .  Lockout\n",
            "9 .  Jason X\n",
            "10 .  Star Wars: Clone Wars: Volume 1\n",
            "11 .  Lost in Space\n",
            "12 .  Moonraker\n",
            "13 .  Space Cowboys\n",
            "14 .  Gravity\n",
            "15 .  Alien³\n",
            "16 .  Galaxy Quest\n",
            "17 .  Planet of the Apes\n",
            "18 .  Space Dogs\n",
            "19 .  The Wolverine\n",
            "20 .  Silent Running\n"
          ],
          "name": "stdout"
        }
      ]
    },
    {
      "cell_type": "code",
      "metadata": {
        "id": "uwQPyjJrQsoN",
        "colab_type": "code",
        "colab": {}
      },
      "source": [
        ""
      ],
      "execution_count": 0,
      "outputs": []
    }
  ]
}