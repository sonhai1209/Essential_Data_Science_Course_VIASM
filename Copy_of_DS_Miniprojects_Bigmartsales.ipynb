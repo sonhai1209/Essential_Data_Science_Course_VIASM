{
  "nbformat": 4,
  "nbformat_minor": 0,
  "metadata": {
    "colab": {
      "name": "Copy of DS_Miniprojects_Bigmartsales.ipynb",
      "provenance": [],
      "include_colab_link": true
    },
    "kernelspec": {
      "name": "python3",
      "display_name": "Python 3"
    }
  },
  "cells": [
    {
      "cell_type": "markdown",
      "metadata": {
        "id": "view-in-github",
        "colab_type": "text"
      },
      "source": [
        "<a href=\"https://colab.research.google.com/github/sonhai1209/Essential_Data_Science_Course_VIASM/blob/master/Copy_of_DS_Miniprojects_Bigmartsales.ipynb\" target=\"_parent\"><img src=\"https://colab.research.google.com/assets/colab-badge.svg\" alt=\"Open In Colab\"/></a>"
      ]
    },
    {
      "cell_type": "code",
      "metadata": {
        "id": "t96Cpn3uBqWq",
        "colab_type": "code",
        "colab": {}
      },
      "source": [
        "import pandas as pd\n",
        "import numpy as np\n",
        "from sklearn.preprocessing import LabelEncoder\n",
        "from sklearn.linear_model import LinearRegression\n",
        "from sklearn.metrics import mean_squared_error\n",
        "from sklearn.model_selection import train_test_split\n"
      ],
      "execution_count": 0,
      "outputs": []
    },
    {
      "cell_type": "code",
      "metadata": {
        "id": "K-uMpJ7BB_Yg",
        "colab_type": "code",
        "outputId": "e050aed2-d458-447c-b41e-cfc6195ead08",
        "colab": {
          "base_uri": "https://localhost:8080/",
          "height": 255
        }
      },
      "source": [
        "data=pd.read_csv(\"train.csv\")\n",
        "#data_test=pd.read_csv(\"test.csv\")\n",
        "print(data)\n",
        "data.dropna(how=\"any\",inplace=True)     #loại bỏ những chỗ có giá trị null\n",
        "\n"
      ],
      "execution_count": 0,
      "outputs": [
        {
          "output_type": "stream",
          "text": [
            "     Item_Identifier  Item_Weight  ...        Outlet_Type  Item_Outlet_Sales\n",
            "0              FDA15        9.300  ...  Supermarket Type1          3735.1380\n",
            "1              DRC01        5.920  ...  Supermarket Type2           443.4228\n",
            "2              FDN15       17.500  ...  Supermarket Type1          2097.2700\n",
            "3              FDX07       19.200  ...      Grocery Store           732.3800\n",
            "4              NCD19        8.930  ...  Supermarket Type1           994.7052\n",
            "...              ...          ...  ...                ...                ...\n",
            "8518           FDF22        6.865  ...  Supermarket Type1          2778.3834\n",
            "8519           FDS36        8.380  ...  Supermarket Type1           549.2850\n",
            "8520           NCJ29       10.600  ...  Supermarket Type1          1193.1136\n",
            "8521           FDN46        7.210  ...  Supermarket Type2          1845.5976\n",
            "8522           DRG01       14.800  ...  Supermarket Type1           765.6700\n",
            "\n",
            "[8523 rows x 12 columns]\n"
          ],
          "name": "stdout"
        }
      ]
    },
    {
      "cell_type": "code",
      "metadata": {
        "id": "5oqBSVkTCc6j",
        "colab_type": "code",
        "outputId": "99c7cbb8-d2af-4646-80c1-364ab7a72f7d",
        "colab": {
          "base_uri": "https://localhost:8080/",
          "height": 255
        }
      },
      "source": [
        "train,test=train_test_split(data)\n",
        "train_x=train.drop(columns=[\"Item_Identifier\",\"Item_Outlet_Sales\"])\n",
        "train_y=train[\"Item_Outlet_Sales\"]\n",
        "\n",
        "test_x=test.drop(columns=[\"Item_Identifier\",\"Item_Outlet_Sales\"])\n",
        "test_y=test[\"Item_Outlet_Sales\"]\n",
        "\n",
        "train_x=pd.get_dummies(train_x)                #chuyển về dạng số.Lưu ý sử dụng với trường với giá trị ít như Yes/No hoặc 1,2,3,4\n",
        "test_x=pd.get_dummies(test_x)\n",
        "\n",
        "print(\"Train_X:\",train_x)"
      ],
      "execution_count": 0,
      "outputs": [
        {
          "output_type": "stream",
          "text": [
            "Train_X:       Item_Weight  ...  Outlet_Type_Supermarket Type2\n",
            "4183       13.500  ...                              0\n",
            "5327        7.975  ...                              0\n",
            "8001        7.420  ...                              0\n",
            "7153        6.035  ...                              0\n",
            "1004       14.500  ...                              0\n",
            "...           ...  ...                            ...\n",
            "3083       11.350  ...                              0\n",
            "169        12.600  ...                              1\n",
            "6300       19.750  ...                              1\n",
            "2725       11.395  ...                              0\n",
            "6765        8.060  ...                              0\n",
            "\n",
            "[3487 rows x 38 columns]\n"
          ],
          "name": "stdout"
        }
      ]
    },
    {
      "cell_type": "code",
      "metadata": {
        "id": "MIhlHKYeDSU7",
        "colab_type": "code",
        "outputId": "68bdcd93-5aad-4b70-ee9b-3f3220d5621a",
        "colab": {
          "base_uri": "https://localhost:8080/",
          "height": 204
        }
      },
      "source": [
        "model=LinearRegression()\n",
        "model.fit(train_x,train_y)\n",
        "\n",
        "print(\"\\nCoefficient\",model.coef_)\n",
        "print(\"\\nIntercept:\",model.intercept_)"
      ],
      "execution_count": 0,
      "outputs": [
        {
          "output_type": "stream",
          "text": [
            "\n",
            "Coefficient [  -6.54808826 -274.0713805    16.4761076    -8.30630612   34.15024378\n",
            "  -17.38066661  -33.53753344  154.66950689 -137.90155064  -18.20554797\n",
            "   82.54563736   56.18136609  -77.34803358   -4.78172086  -82.57925495\n",
            "  -27.99128485  -55.83305051   55.36596508  -48.35306529   -9.07323742\n",
            "  -22.56508679  390.39285263  -23.77631005 -180.36207527  -33.61715361\n",
            "  -12.54718591  -61.01327164   64.34203917  -64.77499174   73.99341012\n",
            "  -12.54718591   12.98013848   -0.43295257    9.21841838   64.34203917\n",
            "  -73.56045755   61.01327164  -61.01327164]\n",
            "\n",
            "Intercept: 16669.28186092901\n"
          ],
          "name": "stdout"
        }
      ]
    },
    {
      "cell_type": "code",
      "metadata": {
        "id": "SQz6i1bCD-OE",
        "colab_type": "code",
        "outputId": "6de2f894-5f2c-40f1-8ff8-ad208b4d5081",
        "colab": {
          "base_uri": "https://localhost:8080/",
          "height": 34
        }
      },
      "source": [
        "predict_train=model.predict(train_x)\n",
        "print(\"\\RMSE of training:\",mean_squared_error(train_y,predict_train)**0.5)"
      ],
      "execution_count": 0,
      "outputs": [
        {
          "output_type": "stream",
          "text": [
            "\\RMSE of training: 1071.241870243966\n"
          ],
          "name": "stdout"
        }
      ]
    },
    {
      "cell_type": "code",
      "metadata": {
        "id": "FX9Gc1bdFnQY",
        "colab_type": "code",
        "outputId": "fd3ba1c0-8ff2-40d4-897e-b86f3d673db0",
        "colab": {
          "base_uri": "https://localhost:8080/",
          "height": 34
        }
      },
      "source": [
        "predict_test=model.predict(test_x)\n",
        "print(\"\\RMSE of testing:\",mean_squared_error(test_y,predict_test)**0.5)\n"
      ],
      "execution_count": 0,
      "outputs": [
        {
          "output_type": "stream",
          "text": [
            "\\RMSE of testing: 1138.4822360436422\n"
          ],
          "name": "stdout"
        }
      ]
    }
  ]
}