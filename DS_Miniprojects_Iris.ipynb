{
  "nbformat": 4,
  "nbformat_minor": 0,
  "metadata": {
    "colab": {
      "name": "Copy of DS_Miniprojects_Iris.ipynb",
      "provenance": [],
      "collapsed_sections": []
    },
    "kernelspec": {
      "name": "python3",
      "display_name": "Python 3"
    }
  },
  "cells": [
    {
      "cell_type": "code",
      "metadata": {
        "id": "eroRQLNslYLU",
        "colab_type": "code",
        "colab": {}
      },
      "source": [
        "import pandas as pd     # Khai báo các thư viện thường dùng\n",
        "import numpy as np\n",
        "from sklearn.preprocessing import LabelEncoder\n",
        "from sklearn.model_selection import train_test_split   #Chia tập dữ liệu thành tập train và test\n",
        "from sklearn.linear_model import LogisticRegression    # chọn bài toán logistic regression \n",
        "from sklearn.metrics import accuracy_score             #Lấy công cụ đánh giá\n",
        "import matplotlib.pyplot as plt\n"
      ],
      "execution_count": 0,
      "outputs": []
    },
    {
      "cell_type": "code",
      "metadata": {
        "id": "_Ovl9rqupRVW",
        "colab_type": "code",
        "outputId": "1adb0f7a-dd3c-42a9-8196-d00c0375e5fc",
        "colab": {
          "base_uri": "https://localhost:8080/",
          "height": 323
        }
      },
      "source": [
        "#get data from .csv file\n",
        "data=pd.read_csv(\"iris.csv\")\n",
        "print(\"\\nColumns:\",data.columns)\n",
        "print(\"\\nHead:\",data.head(5))      #In ra 5 dòng đầu\n",
        "print(\"\\nTail:\",data.tail(5))       #In ra 5 dòng cuối\n",
        "#Bước đầu tiên phải ngắm ngía data rồi sau đó mới lựa chọn các phương pháp để thục hiện nó\n",
        "# Bài này có label là chữ, data là số nên sẽ dùng hồi quy logistic"
      ],
      "execution_count": 0,
      "outputs": [
        {
          "output_type": "stream",
          "text": [
            "\n",
            "Columns: Index(['sepal.length', 'sepal.width', 'petal.length', 'petal.width',\n",
            "       'Species'],\n",
            "      dtype='object')\n",
            "\n",
            "Head:    sepal.length  sepal.width  petal.length  petal.width Species\n",
            "0           5.1          3.5           1.4          0.2  Setosa\n",
            "1           4.9          3.0           1.4          0.2  Setosa\n",
            "2           4.7          3.2           1.3          0.2  Setosa\n",
            "3           4.6          3.1           1.5          0.2  Setosa\n",
            "4           5.0          3.6           1.4          0.2  Setosa\n",
            "\n",
            "Tail:      sepal.length  sepal.width  petal.length  petal.width    Species\n",
            "145           6.7          3.0           5.2          2.3  Virginica\n",
            "146           6.3          2.5           5.0          1.9  Virginica\n",
            "147           6.5          3.0           5.2          2.0  Virginica\n",
            "148           6.2          3.4           5.4          2.3  Virginica\n",
            "149           5.9          3.0           5.1          1.8  Virginica\n"
          ],
          "name": "stdout"
        }
      ]
    },
    {
      "cell_type": "code",
      "metadata": {
        "id": "RWNmGp7cs4Fn",
        "colab_type": "code",
        "outputId": "72b3dae3-1fa3-4af8-91ea-814c2e2bc742",
        "colab": {
          "base_uri": "https://localhost:8080/",
          "height": 187
        }
      },
      "source": [
        "encode=LabelEncoder()\n",
        "data.Species=encode.fit_transform(data.Species)\n",
        "print(\"\\nHead after encoding:\\n\",data.head(5))\n",
        "\n",
        "train,test=train_test_split(data,test_size=0.3,random_state=0) #để random_state=0 để so sánh kết quả sau mỗi lần.Khi quen có thể bỏ đi\n",
        "print(\"Trainning shape\",train.shape)\n",
        "print(\"Testing shape\",test.shape)"
      ],
      "execution_count": 0,
      "outputs": [
        {
          "output_type": "stream",
          "text": [
            "\n",
            "Head after encoding:\n",
            "    sepal.length  sepal.width  petal.length  petal.width  Species\n",
            "0           5.1          3.5           1.4          0.2        0\n",
            "1           4.9          3.0           1.4          0.2        0\n",
            "2           4.7          3.2           1.3          0.2        0\n",
            "3           4.6          3.1           1.5          0.2        0\n",
            "4           5.0          3.6           1.4          0.2        0\n",
            "Trainning shape (105, 5)\n",
            "Testing shape (45, 5)\n"
          ],
          "name": "stdout"
        }
      ]
    },
    {
      "cell_type": "markdown",
      "metadata": {
        "id": "VdkT1ImewRb0",
        "colab_type": "text"
      },
      "source": [
        "Tách species làm y, phần còn lại của data là x"
      ]
    },
    {
      "cell_type": "code",
      "metadata": {
        "id": "3xn-wdoEwWMR",
        "colab_type": "code",
        "outputId": "4634c053-3789-48d6-81c5-5a98dfc2fd2d",
        "colab": {
          "base_uri": "https://localhost:8080/",
          "height": 279
        }
      },
      "source": [
        "#Training data preprocessing\n",
        "train_x=train.drop(columns=[\"Species\"],axis=1)\n",
        "train_y=train[\"Species\"]\n",
        "#Train tập x và so sánh với tập y\n",
        "plt.plot(train_x,train_y,\"o\")\n",
        "plt.xlabel(\"Train diẻction\")\n",
        "plt.ylabel(\"Result diẻction\") \n",
        "#Testing data processing\n",
        "\n",
        "test_x=test.drop(columns=[\"Species\"],axis=1)\n",
        "test_y=test[\"Species\"]"
      ],
      "execution_count": 0,
      "outputs": [
        {
          "output_type": "display_data",
          "data": {
            "image/png": "[encoded data removed]",
            "text/plain": [
              "<Figure size 432x288 with 1 Axes>"
            ]
          },
          "metadata": {
            "tags": []
          }
        }
      ]
    },
    {
      "cell_type": "code",
      "metadata": {
        "id": "s0gog3OGxChp",
        "colab_type": "code",
        "outputId": "ffc33ac4-1778-423b-f5fa-0a7aa9874e4b",
        "colab": {
          "base_uri": "https://localhost:8080/",
          "height": 139
        }
      },
      "source": [
        "#Tạo mô hình\n",
        "model=LogisticRegression()\n",
        "model.fit(train_x,train_y,sample_weight=None)\n",
        "#Evaluation\n",
        "predict=model.predict(test_x)\n",
        "\n",
        "print(\"\\nAccuracy Score\",accuracy_score(test_y,predict))\n"
      ],
      "execution_count": 0,
      "outputs": [
        {
          "output_type": "stream",
          "text": [
            "\n",
            "Accuracy Score 0.8888888888888888\n"
          ],
          "name": "stdout"
        },
        {
          "output_type": "stream",
          "text": [
            "/usr/local/lib/python3.6/dist-packages/sklearn/linear_model/logistic.py:432: FutureWarning: Default solver will be changed to 'lbfgs' in 0.22. Specify a solver to silence this warning.\n",
            "  FutureWarning)\n",
            "/usr/local/lib/python3.6/dist-packages/sklearn/linear_model/logistic.py:469: FutureWarning: Default multi_class will be changed to 'auto' in 0.22. Specify the multi_class option to silence this warning.\n",
            "  \"this warning.\", FutureWarning)\n"
          ],
          "name": "stderr"
        }
      ]
    }
  ]
}